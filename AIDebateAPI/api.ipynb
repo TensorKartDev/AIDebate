{
 "cells": [
  {
   "cell_type": "code",
   "execution_count": 9,
   "metadata": {},
   "outputs": [
    {
     "data": {
      "text/plain": [
       "{'name': 'Xu Shaomin',\n",
       " 'model_name': 'wizardlm2',\n",
       " 'image': '/images/wizardlm2.png',\n",
       " 'description': 'Xi Jinping, emphasizing collectivism and global cooperation.',\n",
       " 'style': 'Speak with a tone of measured authority, focusing on collective harmony and economic progress.',\n",
       " 'system_prompt': 'You are Xu Shaomin, impersonating Xi Jinping. Speak with a tone of measured authority and focus on collective harmony and economic progress.'}"
      ]
     },
     "execution_count": 9,
     "metadata": {},
     "output_type": "execute_result"
    }
   ],
   "source": [
    "from services.persona import get_personas\n",
    "import os \n",
    "os.path.join(os.getcwd(), \"personas.json\")\n",
    "\n",
    "f = get_personas()\n",
    "f['WizardLM2']"
   ]
  }
 ],
 "metadata": {
  "kernelspec": {
   "display_name": "aidebate",
   "language": "python",
   "name": "python3"
  },
  "language_info": {
   "codemirror_mode": {
    "name": "ipython",
    "version": 3
   },
   "file_extension": ".py",
   "mimetype": "text/x-python",
   "name": "python",
   "nbconvert_exporter": "python",
   "pygments_lexer": "ipython3",
   "version": "3.9.6"
  }
 },
 "nbformat": 4,
 "nbformat_minor": 2
}
